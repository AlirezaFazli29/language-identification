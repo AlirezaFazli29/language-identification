{
 "cells": [
  {
   "cell_type": "code",
   "execution_count": 1,
   "id": "7cb513ef",
   "metadata": {},
   "outputs": [],
   "source": [
    "from app.core.lang import LangDetector"
   ]
  },
  {
   "cell_type": "code",
   "execution_count": 2,
   "id": "4315a524",
   "metadata": {},
   "outputs": [],
   "source": [
    "a = LangDetector()"
   ]
  },
  {
   "cell_type": "code",
   "execution_count": 18,
   "id": "66ecd78c",
   "metadata": {},
   "outputs": [
    {
     "data": {
      "text/plain": [
       "('en', 0.8268200755119324)"
      ]
     },
     "execution_count": 18,
     "metadata": {},
     "output_type": "execute_result"
    }
   ],
   "source": [
    "txt = \"FastText provides pre-trained models capable of identifying 176 languages.\"\n",
    "a.detect_lang(txt)"
   ]
  }
 ],
 "metadata": {
  "kernelspec": {
   "display_name": ".venv",
   "language": "python",
   "name": "python3"
  },
  "language_info": {
   "codemirror_mode": {
    "name": "ipython",
    "version": 3
   },
   "file_extension": ".py",
   "mimetype": "text/x-python",
   "name": "python",
   "nbconvert_exporter": "python",
   "pygments_lexer": "ipython3",
   "version": "3.12.3"
  }
 },
 "nbformat": 4,
 "nbformat_minor": 5
}
